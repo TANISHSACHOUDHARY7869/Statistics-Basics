{
  "nbformat": 4,
  "nbformat_minor": 0,
  "metadata": {
    "colab": {
      "provenance": []
    },
    "kernelspec": {
      "name": "python3",
      "display_name": "Python 3"
    },
    "language_info": {
      "name": "python"
    }
  },
  "cells": [
    {
      "cell_type": "markdown",
      "source": [
        "1) What is statistics, and why is it important?\n",
        "\n",
        "Ans:-Statistics is the branch of mathematics that involves collecting, analyzing, interpreting, presenting, and organizing data. It helps us understand and make informed decisions based on data.\n",
        "\n",
        "🔍 Key Components of Statistics:\n",
        "Descriptive Statistics – Summarizes data (e.g., mean, median, mode, standard deviation).\n",
        "\n",
        "Inferential Statistics – Makes predictions or inferences about a population based on a sample (e.g., hypothesis testing, confidence intervals).\n",
        "\n",
        "Probability – Underpins much of statistical theory, helping quantify uncertainty.\n",
        "\n",
        "📌 Why Statistics Is Important:\n",
        "Informed Decision-Making\n",
        "\n",
        "Governments use statistics for policy-making (e.g., census data).\n",
        "\n",
        "Businesses use it to analyze markets, customers, and financial performance.\n",
        "\n",
        "Scientific Research\n",
        "\n",
        "Essential for designing experiments, validating hypotheses, and drawing conclusions in fields like medicine, psychology, and environmental science.\n",
        "\n",
        "Data Interpretation\n",
        "\n",
        "Helps turn raw data into meaningful insights (e.g., trends, patterns).\n",
        "\n",
        "Quality Control & Improvement\n",
        "\n",
        "Used in manufacturing and service industries to maintain product quality.\n",
        "\n",
        "Risk Assessment\n",
        "\n",
        "Helps in evaluating probabilities and making decisions under uncertainty (e.g., in finance or insurance).\n",
        "\n",
        "2)  What are the two main types of statistics?\n",
        "\n",
        "Ans:- The two main types of statistics are:\n",
        "\n",
        "1. Descriptive Statistics\n",
        "These are methods used to summarize and describe the important features of a dataset.\n",
        "\n",
        "📌 Key Features:\n",
        "Purpose: Organize and simplify data.\n",
        "\n",
        "Examples:\n",
        "\n",
        "Measures of Central Tendency: Mean, median, mode\n",
        "\n",
        "Measures of Dispersion: Range, variance, standard deviation\n",
        "\n",
        "Data Visualization: Tables, graphs (bar charts, histograms, pie charts)\n",
        "\n",
        "✅ Example:\n",
        "If you survey 100 students about their test scores, descriptive statistics could show:\n",
        "\n",
        "Average score (mean)\n",
        "\n",
        "Most common score (mode)\n",
        "\n",
        "Spread of scores (standard deviation)\n",
        "\n",
        "2. Inferential Statistics\n",
        "These methods use data from a sample to make predictions or generalizations about a larger population.\n",
        "\n",
        "📌 Key Features:\n",
        "Purpose: Make inferences and test hypotheses.\n",
        "\n",
        "Examples:\n",
        "\n",
        "Estimating population parameters (e.g., population mean)\n",
        "\n",
        "Hypothesis testing\n",
        "\n",
        "Confidence intervals\n",
        "\n",
        "Regression analysis\n",
        "\n",
        "✅ Example:\n",
        "If you survey 100 people from a city to estimate the average income of the entire city, inferential statistics help you draw conclusions with a level of confidence.\n",
        "\n",
        "3)  What are descriptive statistics?\n",
        "\n",
        "Ans:- Descriptive statistics are methods used to summarize, organize, and simplify data so it can be easily understood and interpreted.\n",
        "\n",
        "🔑 Key Characteristics of Descriptive Statistics:\n",
        "Deals only with the data you have (no predictions or generalizations).\n",
        "\n",
        "Provides a snapshot of the data’s key features.\n",
        "\n",
        "📊 Main Types of Descriptive Statistics:\n",
        "1. Measures of Central Tendency\n",
        "These indicate the center or average of a dataset:\n",
        "\n",
        "Mean – The average value.\n",
        "\n",
        "Median – The middle value when data is ordered.\n",
        "\n",
        "Mode – The most frequently occurring value.\n",
        "\n",
        "2. Measures of Dispersion (Spread)\n",
        "These describe how spread out the data is:\n",
        "\n",
        "Range – Difference between the highest and lowest values.\n",
        "\n",
        "Variance – How much values differ from the mean on average.\n",
        "\n",
        "Standard Deviation – The average distance of each data point from the mean.\n",
        "\n",
        "3. Measures of Position\n",
        "These describe the relative standing of data:\n",
        "\n",
        "Percentiles – Indicate the value below which a certain percentage falls.\n",
        "\n",
        "Quartiles – Divide data into four equal parts.\n",
        "\n",
        "4. Data Visualization Tools\n",
        "Used to present data visually:\n",
        "\n",
        "Bar graphs\n",
        "\n",
        "Histograms\n",
        "\n",
        "Pie charts\n",
        "\n",
        "Box plots\n",
        "\n",
        "Frequency tables\n",
        "\n",
        "✅ Example:\n",
        "Imagine you have test scores for 5 students: 60, 70, 80, 90, 100\n",
        "\n",
        "Mean: (60 + 70 + 80 + 90 + 100) / 5 = 80\n",
        "\n",
        "Median: 80 (middle value)\n",
        "\n",
        "Mode: No mode (all values appear once)\n",
        "\n",
        "Range: 100 - 60 = 40\n",
        "\n",
        "Standard Deviation: Shows how much scores deviate from the mean\n",
        "\n",
        "4) What is inferential statistics?\n",
        "Ans:- Inferential statistics is the branch of statistics that allows you to make predictions, decisions, or generalizations about a population based on data collected from a sample.\n",
        "\n",
        "🔑 Key Characteristics:\n",
        "Works with a subset (sample) of data to draw conclusions about a larger group (population).\n",
        "\n",
        "Involves probability theory to measure uncertainty.\n",
        "\n",
        "Used to test hypotheses and make data-driven decisions.\n",
        "\n",
        "📊 Main Components of Inferential Statistics:\n",
        "1. Estimation\n",
        "Point Estimate: A single value used to estimate a population parameter (e.g., sample mean estimating population mean).\n",
        "\n",
        "Confidence Interval: A range of values, with a certain level of confidence (e.g., 95%), that likely contains the population parameter.\n",
        "\n",
        "2. Hypothesis Testing\n",
        "Helps decide whether there is enough evidence in a sample to support a specific claim about the population.\n",
        "\n",
        "Involves:\n",
        "\n",
        "Null Hypothesis (H₀): The default assumption (e.g., no difference).\n",
        "\n",
        "Alternative Hypothesis (H₁): What you want to test.\n",
        "\n",
        "p-value: Probability of observing results as extreme as your sample data if the null hypothesis is true.\n",
        "\n",
        "Significance Level (α): Usually 0.05; if p < α, reject H₀.\n",
        "\n",
        "3. Regression and Correlation\n",
        "Regression Analysis: Predicts one variable based on another.\n",
        "\n",
        "Correlation: Measures the strength and direction of the relationship between two variables.\n",
        "\n",
        "✅ Example:\n",
        "Suppose you survey 200 students to estimate the average study time of all students in your university.\n",
        "\n",
        "You find the sample mean study time is 4 hours.\n",
        "\n",
        "Using inferential statistics, you calculate a 95% confidence interval of 3.8 to 4.2 hours.\n",
        "\n",
        "This means you're 95% confident that the true average study time for all students is between 3.8 and 4.2 hours.\n",
        "\n",
        "5) What is sampling in statistics?\n",
        "\n",
        "Ans:- Sampling in statistics is the process of selecting a subset (sample) of individuals or items from a larger group (called the population) to study and make conclusions about the whole population.\n",
        "\n",
        "🔑 Why Sampling Is Important:\n",
        "Time- and cost-efficient: Studying an entire population is often impractical or impossible.\n",
        "\n",
        "Allows inference: Proper sampling lets you draw valid conclusions about a population.\n",
        "\n",
        "Essential for inferential statistics.\n",
        "\n",
        "🧮 Key Terms:\n",
        "Population: The entire group you want to learn about (e.g., all high school students in a country).\n",
        "\n",
        "Sample: A smaller group chosen from the population (e.g., 500 students from various schools).\n",
        "\n",
        "Sampling Frame: A list of all elements in the population from which the sample is drawn.\n",
        "\n",
        "📊 Types of Sampling Methods:\n",
        "1. Probability Sampling (every member has a known chance of being selected)\n",
        "Simple Random Sampling: Every member has an equal chance.\n",
        "\n",
        "Stratified Sampling: Population divided into subgroups (strata), and samples are taken from each.\n",
        "\n",
        "Systematic Sampling: Every kth member is selected from a list.\n",
        "\n",
        "Cluster Sampling: Population divided into clusters (groups), and entire clusters are randomly selected.\n",
        "\n",
        "2. Non-Probability Sampling (not all members have a known or equal chance)\n",
        "Convenience Sampling: Choosing what's easiest or most available.\n",
        "\n",
        "Judgmental/Purposive Sampling: Based on researcher’s judgment.\n",
        "\n",
        "Quota Sampling: Ensures specific subgroups are represented, but not randomly selected.\n",
        "\n",
        "Snowball Sampling: Participants help recruit more participants, often used in hard-to-reach groups.\n",
        "\n",
        "✅ Example:\n",
        "You want to study the average screen time of teenagers in your city.\n",
        "\n",
        "Population: All teenagers in the city.\n",
        "\n",
        "Sample: 200 randomly selected teenagers from various schools.\n",
        "\n",
        "Conclusion: Use the sample's average screen time to estimate that of the whole population.\n",
        "\n",
        "6)What are the different types of sampling methods?\n",
        "\n",
        "Ans:- In statistics, sampling methods are strategies used to select individuals or items from a population so you can study a sample and make conclusions about the whole. These methods are broadly divided into two categories:\n",
        "\n",
        "🔹 1. Probability Sampling\n",
        "In these methods, every member of the population has a known, non-zero chance of being selected. This helps reduce bias and allows for statistical inference.\n",
        "\n",
        "a. Simple Random Sampling\n",
        "Every member has an equal chance of being selected.\n",
        "\n",
        "Example: Drawing names from a hat.\n",
        "\n",
        "b. Stratified Sampling\n",
        "Population is divided into subgroups (strata) based on a characteristic (e.g., age, gender), and random samples are taken from each stratum.\n",
        "\n",
        "Ensures representation from each group.\n",
        "\n",
        "c. Systematic Sampling\n",
        "Select every kth element from a list (e.g., every 10th person).\n",
        "\n",
        "Requires a random starting point.\n",
        "\n",
        "d. Cluster Sampling\n",
        "Population is divided into clusters (often geographically), and entire clusters are randomly selected.\n",
        "\n",
        "Useful for large, spread-out populations.\n",
        "\n",
        "🔸 2. Non-Probability Sampling\n",
        "In these methods, not all members have a known or equal chance of being selected. These are easier and cheaper but may introduce bias.\n",
        "\n",
        "a. Convenience Sampling\n",
        "Sample is taken from whoever is easiest to reach.\n",
        "\n",
        "Example: Asking students in a nearby café.\n",
        "\n",
        "b. Judgmental (Purposive) Sampling\n",
        "Researcher selects subjects based on personal judgment of who will be most useful or typical.\n",
        "\n",
        "Common in qualitative research.\n",
        "\n",
        "c. Quota Sampling\n",
        "Researcher ensures the sample has specific proportions of subgroups, but selection within each group isn’t random.\n",
        "\n",
        "d. Snowball Sampling\n",
        "Existing participants help recruit more participants, usually from hard-to-reach or hidden populations (e.g., underground communities).\n",
        "\n",
        "7)What is the difference between random and non-random sampling?\n",
        "\n",
        "Ans:- Great question! Here's the difference between random sampling and non-random sampling in a nutshell:\n",
        "\n",
        "🔹 Random Sampling\n",
        "Also called probability sampling.\n",
        "\n",
        "Every member of the population has a known and equal chance of being selected.\n",
        "\n",
        "Selection is based on chance (e.g., using random numbers or drawing lots).\n",
        "\n",
        "Helps ensure the sample is representative of the population.\n",
        "\n",
        "Reduces bias and allows you to make valid statistical inferences about the population.\n",
        "\n",
        "Examples: Simple random sampling, stratified sampling, systematic sampling, cluster sampling.\n",
        "\n",
        "🔸 Non-Random Sampling\n",
        "Also called non-probability sampling.\n",
        "\n",
        "Not every member has a known or equal chance of selection.\n",
        "\n",
        "Selection is based on convenience, judgment, or other non-random criteria.\n",
        "\n",
        "Samples may not be representative of the population.\n",
        "\n",
        "More prone to bias, so results are less generalizable.\n",
        "\n",
        "Used mostly when random sampling isn’t practical or for exploratory research.\n",
        "\n",
        "Examples: Convenience sampling, judgmental sampling, quota sampling, snowball sampling.\n",
        "\n",
        "📊 Quick Comparison:\n",
        "Aspect\tRandom Sampling\tNon-Random Sampling\n",
        "Chance of Selection\tKnown and equal for all\tUnknown or unequal\n",
        "Representativeness\tUsually representative\tOften not representative\n",
        "Bias\tMinimizes bias\tHigher risk of bias\n",
        "Use Case\tStatistical inference, surveys\tExploratory studies, hard-to-reach groups\n",
        "Examples\tSimple random, stratified\tConvenience, judgmental\n",
        "\n",
        "8) Define and give examples of qualitative and quantitative data?\n",
        "\n",
        "Ans:- Sure! Here’s a clear definition and examples of qualitative and quantitative data:\n",
        "\n",
        "🔹 Qualitative Data\n",
        "Definition: Data that describes qualities or characteristics and cannot be measured numerically.\n",
        "\n",
        "Often categorical, descriptive, and deals with words, labels, or categories.\n",
        "\n",
        "Used to capture opinions, feelings, attributes, or observations.\n",
        "\n",
        "Examples:\n",
        "Colors of cars in a parking lot (red, blue, black)\n",
        "\n",
        "Types of cuisine people prefer (Italian, Chinese, Mexican)\n",
        "\n",
        "Responses to “How satisfied are you?” (Satisfied, Neutral, Dissatisfied)\n",
        "\n",
        "Gender (Male, Female, Non-binary)\n",
        "\n",
        "Interview transcripts or open-ended survey responses\n",
        "\n",
        "🔸 Quantitative Data\n",
        "Definition: Data that can be measured and expressed numerically.\n",
        "\n",
        "It represents quantities, amounts, or counts.\n",
        "\n",
        "Can be used for mathematical calculations and statistical analysis.\n",
        "\n",
        "Examples:\n",
        "Age of students (18, 19, 20, etc.)\n",
        "\n",
        "Number of books read in a month (3, 5, 7)\n",
        "\n",
        "Height in centimeters (150 cm, 165 cm, 180 cm)\n",
        "\n",
        "Test scores (85%, 90%, 78%)\n",
        "\n",
        "Temperature readings (22°C, 25°C, 30°C)\n",
        "\n",
        "9) What are the different types of data in statistics?\n",
        "\n",
        "Ans:- 1. Qualitative (Categorical) Data\n",
        "Data that describe attributes, qualities, or categories and cannot be measured numerically.\n",
        "\n",
        "a. Nominal Data\n",
        "Categories with no specific order.\n",
        "\n",
        "Examples: Eye color (blue, brown), Gender (male, female), Types of fruit (apple, orange).\n",
        "\n",
        "b. Ordinal Data\n",
        "Categories with a meaningful order or ranking, but the intervals between ranks are not necessarily equal.\n",
        "\n",
        "Examples: Education level (high school, bachelor’s, master’s), Survey ratings (poor, fair, good, excellent).\n",
        "\n",
        "2. Quantitative (Numerical) Data\n",
        "Data that represent numeric values and can be measured or counted.\n",
        "\n",
        "a. Discrete Data\n",
        "Countable values, usually whole numbers.\n",
        "\n",
        "Examples: Number of students in a class, number of cars in a parking lot.\n",
        "\n",
        "b. Continuous Data\n",
        "Can take any value within a range (including decimals).\n",
        "\n",
        "Examples: Height, weight, temperature, time.\n",
        "\n",
        "10) Explain nominal, ordinal, interval, and ratio levels of measurement?\n",
        "\n",
        "Ans:- 1. Nominal Level\n",
        "Definition: Data are categorized into distinct groups or names with no inherent order.\n",
        "\n",
        "Data are labels or categories only.\n",
        "\n",
        "You can count how many fall into each category, but you can’t rank or do math on them.\n",
        "\n",
        "Example:\n",
        "Eye color: Blue, Green, Brown\n",
        "\n",
        "Gender: Male, Female, Other\n",
        "\n",
        "Types of cuisine: Italian, Chinese, Mexican\n",
        "\n",
        "2. Ordinal Level\n",
        "Definition: Data have categories with a meaningful order or ranking, but the intervals between ranks are not equal or known.\n",
        "\n",
        "You know the order (which is higher or lower), but not how much higher or lower.\n",
        "\n",
        "Example:\n",
        "Movie ratings: Poor, Fair, Good, Excellent\n",
        "\n",
        "Education level: High school, Bachelor’s, Master’s, PhD\n",
        "\n",
        "Likert scale responses: Strongly disagree to Strongly agree\n",
        "\n",
        "3. Interval Level\n",
        "Definition: Data have ordered categories with equal intervals between values, but no true zero point.\n",
        "\n",
        "You can add and subtract values, but ratios don’t make sense (because zero doesn’t mean ‘none’).\n",
        "\n",
        "Example:\n",
        "Temperature in Celsius or Fahrenheit (0°C does not mean no temperature)\n",
        "\n",
        "Calendar years (e.g., 2000, 2020)\n",
        "\n",
        "4. Ratio Level\n",
        "Definition: Data have ordered categories with equal intervals and a true zero point (meaning zero indicates none of the quantity).\n",
        "\n",
        "You can do all arithmetic operations (add, subtract, multiply, divide).\n",
        "\n",
        "Ratios are meaningful (e.g., twice as much).\n",
        "\n",
        "Example:\n",
        "Height (0 cm means no height)\n",
        "\n",
        "Weight (0 kg means no weight)\n",
        "\n",
        "Age (0 years means no age)\n",
        "\n",
        "Income (0 dollars means no income)\n",
        "\n",
        "11) What is the measure of central tendency?\n",
        "\n",
        "Ans:- The three main measures of central tendency are:\n",
        "1. Mean (Arithmetic Mean)\n",
        "The average of all data points.\n",
        "\n",
        "Calculated by adding all the values and dividing by the number of values.\n",
        "\n",
        "Formula:\n",
        "\n",
        "Mean\n",
        "=\n",
        "Sum of all values\n",
        "Number of values\n",
        "Mean=\n",
        "Number of values\n",
        "Sum of all values\n",
        "​\n",
        "\n",
        "Example:\n",
        "For data: 2, 4, 6, 8, 10\n",
        "Mean = (2 + 4 + 6 + 8 + 10) / 5 = 30 / 5 = 6\n",
        "\n",
        "2. Median\n",
        "The middle value when data are arranged in order.\n",
        "\n",
        "If there is an even number of observations, the median is the average of the two middle values.\n",
        "\n",
        "Example:\n",
        "For data: 3, 5, 7, 9, 11\n",
        "Median = 7 (middle value)\n",
        "\n",
        "For data: 3, 5, 7, 9\n",
        "Median = (5 + 7) / 2 = 6\n",
        "\n",
        "3. Mode\n",
        "The most frequently occurring value in a dataset.\n",
        "\n",
        "A dataset may have no mode, one mode, or multiple modes.\n",
        "\n",
        "Example:\n",
        "For data: 2, 3, 4, 4, 5\n",
        "Mode = 4\n",
        "\n",
        "Why measures of central tendency matter:\n",
        "They provide a quick summary of the data.\n",
        "\n",
        "Useful for comparing different datasets.\n",
        "\n",
        "Help in understanding the general trend or typical value.\n",
        "\n",
        "12) Define mean, median, and mode?\n",
        "\n",
        "Ans:- 1. Mean\n",
        "The mean is the average of all numbers in a dataset.\n",
        "\n",
        "Calculated by adding all values together and dividing by the number of values.\n",
        "\n",
        "Example:\n",
        "For 3, 5, 7:\n",
        "Mean = (3 + 5 + 7) ÷ 3 = 15 ÷ 3 = 5\n",
        "\n",
        "2. Median\n",
        "The median is the middle value when data are arranged in order.\n",
        "\n",
        "If there’s an even number of values, the median is the average of the two middle values.\n",
        "\n",
        "Example:\n",
        "For 3, 5, 7:\n",
        "Median = 5 (middle number)\n",
        "\n",
        "For 3, 5, 7, 9:\n",
        "Median = (5 + 7) ÷ 2 = 6\n",
        "\n",
        "3. Mode\n",
        "The mode is the value that appears most frequently in the dataset.\n",
        "\n",
        "There can be no mode, one mode, or multiple modes.\n",
        "\n",
        "Example:\n",
        "For 3, 5, 5, 7:\n",
        "Mode = 5 (appears twice)\n",
        "\n",
        "For 1, 2, 3:\n",
        "No mode (all appear once)\n",
        "\n",
        "13) What is the significance of the measure of central tendency?\n",
        "\n",
        "Ans:- Key Significances:\n",
        "Simplifies Data\n",
        "\n",
        "Instead of looking at every data point, you get a concise summary that represents the whole dataset.\n",
        "\n",
        "Helps in Comparison\n",
        "\n",
        "Measures like mean, median, and mode allow you to compare different groups or datasets easily.\n",
        "\n",
        "Basis for Further Analysis\n",
        "\n",
        "Many statistical techniques and decisions (e.g., inferential statistics, hypothesis testing) start with knowing the central tendency.\n",
        "\n",
        "Identifies Trends and Patterns\n",
        "\n",
        "It helps identify the general pattern or typical behavior in data (e.g., average income, typical exam score).\n",
        "\n",
        "Supports Decision Making\n",
        "\n",
        "Businesses, researchers, and policymakers use these measures to make informed decisions based on data.\n",
        "\n",
        "Handles Different Data Types\n",
        "\n",
        "Different measures suit different types of data and distributions, providing flexibility in analysis.\n",
        "\n",
        "Example:\n",
        "A school reports the average (mean) test score to understand overall student performance.\n",
        "\n",
        "The median income in a city helps understand typical earnings without being skewed by very high or low incomes.\n",
        "\n",
        "The mode can tell a store the most popular product size sold.\n",
        "\n",
        "14) What is variance, and how is it calculated?\n",
        "\n",
        "Ans:- Variance is a measure of how much the values in a dataset spread out or vary from the mean (average). It tells you the average of the squared differences between each data point and the mean, giving a sense of the data’s dispersion.\n",
        "\n",
        "Why Variance Matters:\n",
        "It quantifies how spread out the data points are.\n",
        "\n",
        "A low variance means data points are close to the mean.\n",
        "\n",
        "A high variance means data points are widely spread.\n",
        "\n",
        "How to Calculate Variance:\n",
        "Step 1: Find the mean (average) of the data.\n",
        "Step 2: Subtract the mean from each data point (calculate the deviation).\n",
        "Step 3: Square each deviation (to make all values positive).\n",
        "Step 4: Find the average of these squared deviations.\n",
        "Formulas:\n",
        "Population Variance (σ²):\n",
        "\n",
        "𝜎\n",
        "2\n",
        "=\n",
        "∑\n",
        "(\n",
        "𝑥\n",
        "𝑖\n",
        "−\n",
        "𝜇\n",
        ")\n",
        "2\n",
        "𝑁\n",
        "σ\n",
        "2\n",
        " =\n",
        "N\n",
        "∑(x\n",
        "i\n",
        "​\n",
        " −μ)\n",
        "2\n",
        "\n",
        "​\n",
        "\n",
        "Where:\n",
        "\n",
        "𝑥\n",
        "𝑖\n",
        "x\n",
        "i\n",
        "​\n",
        "  = each data point\n",
        "\n",
        "𝜇\n",
        "μ = population mean\n",
        "\n",
        "𝑁\n",
        "N = total number of data points\n",
        "\n",
        "Sample Variance (s²):\n",
        "\n",
        "𝑠\n",
        "2\n",
        "=\n",
        "∑\n",
        "(\n",
        "𝑥\n",
        "𝑖\n",
        "−\n",
        "𝑥\n",
        "ˉ\n",
        ")\n",
        "2\n",
        "𝑛\n",
        "−\n",
        "1\n",
        "s\n",
        "2\n",
        " =\n",
        "n−1\n",
        "∑(x\n",
        "i\n",
        "​\n",
        " −\n",
        "x\n",
        "ˉ\n",
        " )\n",
        "2\n",
        "\n",
        "​\n",
        "\n",
        "Where:\n",
        "\n",
        "𝑥\n",
        "𝑖\n",
        "x\n",
        "i\n",
        "​\n",
        "  = each data point in the sample\n",
        "\n",
        "𝑥\n",
        "ˉ\n",
        "x\n",
        "ˉ\n",
        "  = sample mean\n",
        "\n",
        "𝑛\n",
        "n = sample size\n",
        "\n",
        "Note: For samples, we divide by\n",
        "𝑛\n",
        "−\n",
        "1\n",
        "n−1 (degrees of freedom) to get an unbiased estimate.\n",
        "\n",
        "Example:\n",
        "Data: 4, 7, 10\n",
        "\n",
        "Mean = (4 + 7 + 10) / 3 = 7\n",
        "\n",
        "Deviations: (4 - 7) = -3, (7 - 7) = 0, (10 - 7) = 3\n",
        "\n",
        "Squared deviations: 9, 0, 9\n",
        "\n",
        "Variance (population) = (9 + 0 + 9) / 3 = 6\n",
        "Variance (sample) = (9 + 0 + 9) / (3 - 1) = 18 / 2 = 9\n",
        "\n",
        "\n",
        "15) What is standard deviation, and why is it important?\n",
        "\n",
        "Ans:- Standard deviation is a measure that tells you how spread out the values in a dataset are around the mean. It’s the square root of the variance, so it’s expressed in the same units as the original data, making it easier to interpret.\n",
        "\n",
        "Why is standard deviation important?\n",
        "Measures variability: It shows how much the data points typically differ from the average (mean).\n",
        "\n",
        "Interpretable units: Because it’s in the same units as the data, it’s easier to understand than variance (which is squared units).\n",
        "\n",
        "Identifies consistency: A small standard deviation means data points are close to the mean (consistent), while a large standard deviation means data is spread out (variable).\n",
        "\n",
        "Used in statistics: It’s essential for many statistical analyses, like confidence intervals, hypothesis testing, and control charts.\n",
        "\n",
        "Comparing datasets: Helps compare the variability between different datasets even if they have the same mean.\n",
        "\n",
        "How to calculate standard deviation:\n",
        "Calculate the variance first.\n",
        "\n",
        "Then, take the square root of the variance.\n",
        "\n",
        "Formulas:\n",
        "Population standard deviation (σ):\n",
        "\n",
        "𝜎\n",
        "=\n",
        "∑\n",
        "(\n",
        "𝑥\n",
        "𝑖\n",
        "−\n",
        "𝜇\n",
        ")\n",
        "2\n",
        "𝑁\n",
        "σ=\n",
        "N\n",
        "∑(x\n",
        "i\n",
        "​\n",
        " −μ)\n",
        "2\n",
        "\n",
        "​\n",
        "\n",
        "​\n",
        "\n",
        "Sample standard deviation (s):\n",
        "\n",
        "𝑠\n",
        "=\n",
        "∑\n",
        "(\n",
        "𝑥\n",
        "𝑖\n",
        "−\n",
        "𝑥\n",
        "ˉ\n",
        ")\n",
        "2\n",
        "𝑛\n",
        "−\n",
        "1\n",
        "s=\n",
        "n−1\n",
        "∑(x\n",
        "i\n",
        "​\n",
        " −\n",
        "x\n",
        "ˉ\n",
        " )\n",
        "2\n",
        "\n",
        "​\n",
        "\n",
        "​\n",
        "\n",
        "Example:\n",
        "For data: 4, 7, 10\n",
        "\n",
        "Variance (population) = 6\n",
        "\n",
        "Standard deviation = √6 ≈ 2.45\n",
        "\n",
        "16)  Define and explain the term range in statistics?\n",
        "\n",
        "Ans:- Range in Statistics\n",
        "Definition:\n",
        "The range is the simplest measure of spread or dispersion in a dataset. It is the difference between the maximum (largest) value and the minimum (smallest) value in the data.\n",
        "\n",
        "Formula:\n",
        "Range\n",
        "=\n",
        "Maximum value\n",
        "−\n",
        "Minimum value\n",
        "Range=Maximum value−Minimum value\n",
        "Explanation:\n",
        "The range gives you a quick sense of how spread out the data are.\n",
        "\n",
        "It tells you the total spread covered by the data points.\n",
        "\n",
        "However, it only considers the two extreme values and ignores the rest of the data.\n",
        "\n",
        "Because of this, the range can be heavily affected by outliers (extremely high or low values).\n",
        "\n",
        "Example:\n",
        "Consider the dataset: 5, 8, 12, 20, 25\n",
        "\n",
        "Maximum value = 25\n",
        "\n",
        "Minimum value = 5\n",
        "\n",
        "Range = 25 − 5 = 20\n",
        "\n",
        "17)What is the difference between variance and standard deviation?\n",
        "\n",
        "Ans:- Variance\n",
        "Measures the average squared deviation of each data point from the mean.\n",
        "\n",
        "It tells you how spread out the data are, but since the deviations are squared, the units are not the same as the original data (e.g., if your data are in meters, variance is in square meters).\n",
        "\n",
        "Because of the squared units, variance can be harder to interpret directly.\n",
        "\n",
        "Standard Deviation\n",
        "Is the square root of the variance.\n",
        "\n",
        "It measures the average amount of variation or dispersion around the mean, but in the same units as the original data.\n",
        "\n",
        "Easier to understand and interpret because it’s on the same scale as the data.\n",
        "\n",
        "Summary Table:\n",
        "Feature\tVariance\tStandard Deviation\n",
        "Definition\tAverage of squared deviations\tSquare root of variance\n",
        "Units\tSquared units of data\tSame units as the data\n",
        "Interpretation\tHarder to interpret directly\tEasier to interpret\n",
        "Use\tBasis for calculating SD and other stats\tCommonly used to describe spread\n",
        "\n",
        "Quick example:\n",
        "For data: 2, 4, 6\n",
        "\n",
        "Variance might be 4 (in squared units)\n",
        "\n",
        "Standard deviation = √4 = 2 (same units as data)\n",
        "\n",
        "18)What is skewness in a dataset?\n",
        "\n",
        "Ans:- Skewness in a dataset is a measure of the asymmetry or lack of symmetry in the distribution of data values.\n",
        "\n",
        "What does skewness tell you?\n",
        "If the data is symmetrical (like a perfect bell curve), skewness is close to 0.\n",
        "\n",
        "If the data leans to the right (longer tail on the right side), it’s called positively skewed (skewness > 0).\n",
        "\n",
        "If the data leans to the left (longer tail on the left side), it’s called negatively skewed (skewness < 0).\n",
        "\n",
        "Why is skewness important?\n",
        "It helps you understand the shape of your data distribution.\n",
        "\n",
        "Indicates if the data has outliers or is biased toward higher or lower values.\n",
        "\n",
        "Important for choosing the right statistical methods — many assume data is symmetric.\n",
        "\n",
        "Visual example:\n",
        "Positive skew: Most data clustered on the left, tail to the right (e.g., income distribution).\n",
        "\n",
        "Negative skew: Most data clustered on the right, tail to the left.\n",
        "\n",
        "19) What does it mean if a dataset is positively or negatively skewed?\n",
        "\n",
        "Ans:- Positively Skewed Dataset (Right-skewed)\n",
        "The tail on the right side (higher values) is longer or fatter.\n",
        "\n",
        "Most data values are concentrated on the left (lower end).\n",
        "\n",
        "The mean is typically greater than the median because the high values pull the average up.\n",
        "\n",
        "Common in things like income, where a few very high incomes stretch the distribution to the right.\n",
        "\n",
        "Visual:"
      ],
      "metadata": {
        "id": "7DZu93QRpnXb"
      }
    },
    {
      "cell_type": "code",
      "source": [
        "# This is a comment and does not contain any Python code to fix.\n",
        "# The provided input appears to be an illustration, not Python code with syntax errors."
      ],
      "metadata": {
        "id": "qIDyrsctt0S4"
      },
      "execution_count": 3,
      "outputs": []
    },
    {
      "cell_type": "markdown",
      "source": [
        "Negatively Skewed Dataset (Left-skewed)\n",
        "The tail on the left side (lower values) is longer or fatter.\n",
        "\n",
        "Most data values are concentrated on the right (higher end).\n",
        "\n",
        "The mean is typically less than the median because the low values pull the average down.\n",
        "\n",
        "Examples include ages at retirement or test scores where a few very low values stretch the distribution to the left.\n",
        "\n",
        "Visual:"
      ],
      "metadata": {
        "id": "UQYhRNNet81l"
      }
    },
    {
      "cell_type": "code",
      "source": [
        "# This is a comment and not executable code.\n",
        "# <———■■■■■■■■■■■■■■■■■■■———| Tail on left (low values)"
      ],
      "metadata": {
        "id": "7Zalkg8gt__v"
      },
      "execution_count": 6,
      "outputs": []
    },
    {
      "cell_type": "markdown",
      "source": [
        "20)  Define and explain kurtosis?\n",
        "\n",
        "Ans:- Kurtosis\n",
        "Definition:\n",
        "Kurtosis is a statistical measure that describes the shape of a distribution’s tails and the peakedness (or flatness) of the data compared to a normal distribution.\n",
        "\n",
        "What does kurtosis tell you?\n",
        "How heavy or light the tails of the distribution are (i.e., how likely extreme values or outliers are).\n",
        "\n",
        "How sharp or flat the peak of the distribution is.\n",
        "\n",
        "Types of kurtosis:\n",
        "Mesokurtic\n",
        "\n",
        "Kurtosis ≈ 3 (or 0 if using excess kurtosis)\n",
        "\n",
        "Normal distribution shape — moderate tails and peak.\n",
        "\n",
        "Leptokurtic\n",
        "\n",
        "Kurtosis > 3 (positive excess kurtosis)\n",
        "\n",
        "Tall, sharp peak and fat tails (more extreme values/outliers than normal).\n",
        "\n",
        "Example: Some financial returns data.\n",
        "\n",
        "Platykurtic\n",
        "\n",
        "Kurtosis < 3 (negative excess kurtosis)\n",
        "\n",
        "Flat, broad peak and thin tails (fewer extreme values than normal).\n",
        "\n",
        "Example: Uniform distribution.\n",
        "\n",
        "Why is kurtosis important?\n",
        "Helps understand the risk of extreme events (outliers) in the data.\n",
        "\n",
        "Important in fields like finance, quality control, and any domain where rare events matter.\n",
        "\n",
        "Influences assumptions in statistical models that expect normality.\n",
        "\n",
        "21) What is the purpose of covariance?\n",
        "\n",
        "Ans:- The purpose of covariance is to measure the direction and strength of the relationship between two variables — specifically, how they vary together.\n",
        "\n",
        "What does covariance tell you?\n",
        "Whether two variables tend to increase or decrease together.\n",
        "\n",
        "Whether one variable tends to increase when the other decreases.\n",
        "\n",
        "The magnitude of how much they change together (though magnitude depends on units, so it’s less intuitive).\n",
        "\n",
        "Interpretation:\n",
        "Positive covariance:\n",
        "When one variable increases, the other tends to increase as well.\n",
        "(They move in the same direction.)\n",
        "\n",
        "Negative covariance:\n",
        "When one variable increases, the other tends to decrease.\n",
        "(They move in opposite directions.)\n",
        "\n",
        "Zero covariance:\n",
        "No linear relationship between the variables — their movements are unrelated.\n",
        "\n",
        "Why is covariance important?\n",
        "It’s a foundation for other measures like correlation, which standardizes covariance to a fixed scale.\n",
        "\n",
        "Used in statistics, finance (e.g., portfolio risk), and data analysis to understand relationships between variables.\n",
        "\n",
        "Helps in multivariate analysis and modeling relationships.\n",
        "\n",
        "Example:\n",
        "If you track hours studied and exam scores:\n",
        "\n",
        "Positive covariance means more study hours relate to higher scores.\n",
        "\n",
        "Negative covariance would mean more study hours relate to lower scores (unlikely in this case).\n",
        "\n",
        "Zero covariance means no clear relationship.\n",
        "\n",
        "22) What does correlation measure in statistics?\n",
        "\n",
        "Ans:- Correlation in statistics measures the strength and direction of the linear relationship between two variables.\n",
        "\n",
        "What does correlation tell you?\n",
        "Strength: How closely the two variables move together.\n",
        "\n",
        "Direction: Whether the variables move in the same direction or opposite directions.\n",
        "\n",
        "Correlation values range from -1 to +1:\n",
        "Correlation Coefficient (r)\tMeaning\n",
        "+1\tPerfect positive linear relationship (both increase together)\n",
        "0\tNo linear relationship\n",
        "-1\tPerfect negative linear relationship (one increases, other decreases)\n",
        "\n",
        "Why is correlation important?\n",
        "Helps identify relationships between variables.\n",
        "\n",
        "Useful in prediction and understanding associations.\n",
        "\n",
        "Unlike covariance, correlation is standardized (unitless), so you can compare across different pairs of variables.\n",
        "\n",
        "Example:\n",
        "Correlation between hours studied and exam scores might be +0.8, showing a strong positive relationship.\n",
        "\n",
        "Correlation between exercise time and weight might be -0.5, indicating a moderate negative relationship.\n",
        "\n",
        "\n",
        "23) What is the difference between covariance and correlation?\n",
        "\n",
        "Ans:- Covariance\n",
        "Measures how two variables vary together — whether they increase or decrease together.\n",
        "\n",
        "Its value depends on the units of the variables, so it’s hard to interpret the strength of the relationship directly.\n",
        "\n",
        "Can be any value from negative infinity to positive infinity.\n",
        "\n",
        "Positive covariance means variables tend to move in the same direction; negative means they move in opposite directions.\n",
        "\n",
        "Correlation\n",
        "Measures the strength and direction of the linear relationship between two variables.\n",
        "\n",
        "It is a standardized version of covariance, so it has no units.\n",
        "\n",
        "Values range between -1 and +1, making it easier to interpret.\n",
        "\n",
        "+1 means perfect positive linear relationship, -1 means perfect negative linear relationship, and 0 means no linear relationship.\n",
        "\n",
        "Summary Table:\n",
        "Aspect\tCovariance\tCorrelation\n",
        "Measures\tDirection and joint variability\tStrength and direction of linear relationship\n",
        "Units\tDepends on the units of variables\tUnitless (standardized)\n",
        "Value Range\n",
        "−\n",
        "∞\n",
        "−∞ to\n",
        "+\n",
        "∞\n",
        "+∞\t-1 to +1\n",
        "Interpretation\tHarder to interpret magnitude\tEasy to interpret magnitude\n",
        "Calculation\tAverage product of deviations\tCovariance divided by product of standard deviations\n",
        "\n",
        "24) What are some real-world applications of statistics?\n",
        "\n",
        "Ans:- 1. Healthcare and Medicine\n",
        "Analyzing clinical trial data to test new drugs or treatments\n",
        "\n",
        "Monitoring disease outbreaks and trends (epidemiology)\n",
        "\n",
        "Predicting patient outcomes and improving diagnostics\n",
        "\n",
        "2. Business and Marketing\n",
        "Understanding customer behavior and preferences\n",
        "\n",
        "Forecasting sales and demand\n",
        "\n",
        "Quality control and improving products/services\n",
        "\n",
        "Market research and survey analysis\n",
        "\n",
        "3. Education\n",
        "Analyzing student performance data\n",
        "\n",
        "Evaluating teaching methods and curricula effectiveness\n",
        "\n",
        "Designing standardized tests and grading curves\n",
        "\n",
        "4. Government and Public Policy\n",
        "Conducting population censuses\n",
        "\n",
        "Informing policy decisions based on economic or social data\n",
        "\n",
        "Monitoring employment rates and inflation\n",
        "\n",
        "5. Sports\n",
        "Analyzing player performance and team strategies (sports analytics)\n",
        "\n",
        "Predicting outcomes and improving training programs\n",
        "\n",
        "6. Finance and Economics\n",
        "Risk assessment and portfolio management\n",
        "\n",
        "Economic forecasting and modeling market trends\n",
        "\n",
        "Credit scoring and fraud detection\n",
        "\n",
        "7. Environmental Science\n",
        "Studying climate change and weather patterns\n",
        "\n",
        "Monitoring pollution and natural resource management\n",
        "\n",
        "Why it matters:\n",
        "Statistics helps make informed decisions, solve problems, and understand the world by turning data into meaningful insights.\n",
        "\n",
        "\n",
        "\n",
        "                        Practical\n",
        "    \n",
        "1) How do you calculate the mean, median, and mode of a dataset?\n",
        "\n",
        "Ans:- Example dataset:"
      ],
      "metadata": {
        "id": "CPTwCK6EuFJV"
      }
    },
    {
      "cell_type": "code",
      "source": [
        "data = [4, 7, 2, 9, 7, 5, 3]\n"
      ],
      "metadata": {
        "id": "8EtsJ_cyvd3s"
      },
      "execution_count": 7,
      "outputs": []
    },
    {
      "cell_type": "markdown",
      "source": [
        "1. Calculate Mean"
      ],
      "metadata": {
        "id": "0c1JsHKCvgML"
      }
    },
    {
      "cell_type": "code",
      "source": [
        "mean = sum(data) / len(data)\n",
        "print(\"Mean:\", mean)\n"
      ],
      "metadata": {
        "colab": {
          "base_uri": "https://localhost:8080/"
        },
        "id": "xvg3K9SdviXa",
        "outputId": "3aaa92cb-34f0-4e7b-8fcf-d04584ae990e"
      },
      "execution_count": 8,
      "outputs": [
        {
          "output_type": "stream",
          "name": "stdout",
          "text": [
            "Mean: 5.285714285714286\n"
          ]
        }
      ]
    },
    {
      "cell_type": "markdown",
      "source": [
        "2. Calculate Median"
      ],
      "metadata": {
        "id": "aDJThPXHvkbK"
      }
    },
    {
      "cell_type": "code",
      "source": [
        "data_sorted = sorted(data)\n",
        "n = len(data_sorted)\n",
        "\n",
        "if n % 2 == 1:  # Odd number of elements\n",
        "    median = data_sorted[n // 2]\n",
        "else:  # Even number of elements\n",
        "    median = (data_sorted[(n // 2) - 1] + data_sorted[n // 2]) / 2\n",
        "\n",
        "print(\"Median:\", median)\n"
      ],
      "metadata": {
        "colab": {
          "base_uri": "https://localhost:8080/"
        },
        "id": "JditTJMpvowt",
        "outputId": "392c94a4-4d68-44ea-84d1-915a3ef4e011"
      },
      "execution_count": 9,
      "outputs": [
        {
          "output_type": "stream",
          "name": "stdout",
          "text": [
            "Median: 5\n"
          ]
        }
      ]
    },
    {
      "cell_type": "markdown",
      "source": [
        "3. Calculate Mode\n",
        "You can use the statistics module to simplify mode calculation:"
      ],
      "metadata": {
        "id": "C3t8CecKvq_b"
      }
    },
    {
      "cell_type": "code",
      "source": [
        "import statistics\n",
        "\n",
        "mode = statistics.mode(data)\n",
        "print(\"Mode:\", mode)\n"
      ],
      "metadata": {
        "colab": {
          "base_uri": "https://localhost:8080/"
        },
        "id": "S4WkerjOvuIc",
        "outputId": "171eafe5-3732-4c2f-db68-d6fe584e2a68"
      },
      "execution_count": 10,
      "outputs": [
        {
          "output_type": "stream",
          "name": "stdout",
          "text": [
            "Mode: 7\n"
          ]
        }
      ]
    },
    {
      "cell_type": "markdown",
      "source": [
        "Full code together:"
      ],
      "metadata": {
        "id": "M4bq4QskvwP4"
      }
    },
    {
      "cell_type": "code",
      "source": [
        "import statistics\n",
        "\n",
        "data = [4, 7, 2, 9, 7, 5, 3]\n",
        "\n",
        "# Mean\n",
        "mean = sum(data) / len(data)\n",
        "\n",
        "# Median\n",
        "data_sorted = sorted(data)\n",
        "n = len(data_sorted)\n",
        "if n % 2 == 1:\n",
        "    median = data_sorted[n // 2]\n",
        "else:\n",
        "    median = (data_sorted[(n // 2) - 1] + data_sorted[n // 2]) / 2\n",
        "\n",
        "# Mode\n",
        "mode = statistics.mode(data)\n",
        "\n",
        "print(\"Mean:\", mean)\n",
        "print(\"Median:\", median)\n",
        "print(\"Mode:\", mode)\n"
      ],
      "metadata": {
        "colab": {
          "base_uri": "https://localhost:8080/"
        },
        "id": "dpOxLWSvvy3t",
        "outputId": "ed966d96-3dbd-47d6-815a-a2d0f3a1c155"
      },
      "execution_count": 11,
      "outputs": [
        {
          "output_type": "stream",
          "name": "stdout",
          "text": [
            "Mean: 5.285714285714286\n",
            "Median: 5\n",
            "Mode: 7\n"
          ]
        }
      ]
    },
    {
      "cell_type": "markdown",
      "source": [
        "2) Write a Python program to compute the variance and standard deviation of a dataset?\n",
        "\n",
        "Ans:-"
      ],
      "metadata": {
        "id": "6ZQLNyxEv12U"
      }
    },
    {
      "cell_type": "code",
      "source": [
        "# Sample dataset\n",
        "data = [4, 7, 2, 9, 7, 5, 3]\n",
        "\n",
        "# Calculate the mean\n",
        "mean = sum(data) / len(data)\n",
        "\n",
        "# Calculate variance\n",
        "variance = sum((x - mean) ** 2 for x in data) / len(data)  # Population variance\n",
        "\n",
        "# Calculate standard deviation (square root of variance)\n",
        "std_deviation = variance ** 0.5\n",
        "\n",
        "print(f\"Variance: {variance}\")\n",
        "print(f\"Standard Deviation: {std_deviation}\")\n"
      ],
      "metadata": {
        "colab": {
          "base_uri": "https://localhost:8080/"
        },
        "id": "-DE1QB2DwE82",
        "outputId": "e283e82f-1503-4398-ac97-06cbb7727069"
      },
      "execution_count": 12,
      "outputs": [
        {
          "output_type": "stream",
          "name": "stdout",
          "text": [
            "Variance: 5.346938775510204\n",
            "Standard Deviation: 2.3123448651769496\n"
          ]
        }
      ]
    },
    {
      "cell_type": "markdown",
      "source": [
        "3) Create a dataset and classify it into nominal, ordinal, interval, and ratio types?\n",
        "\n",
        "Ans:-"
      ],
      "metadata": {
        "id": "4VhXGW_UwF7b"
      }
    },
    {
      "cell_type": "code",
      "source": [
        "# Sample dataset as a list of dictionaries\n",
        "dataset = [\n",
        "    {\"Student_ID\": 1, \"Favorite_Color\": \"Blue\", \"Education_Level\": \"Bachelor\", \"Temperature_C\": 23, \"Exam_Score\": 85},\n",
        "    {\"Student_ID\": 2, \"Favorite_Color\": \"Red\", \"Education_Level\": \"High School\", \"Temperature_C\": 18, \"Exam_Score\": 78},\n",
        "    {\"Student_ID\": 3, \"Favorite_Color\": \"Green\", \"Education_Level\": \"Master\", \"Temperature_C\": 21, \"Exam_Score\": 92},\n",
        "    {\"Student_ID\": 4, \"Favorite_Color\": \"Blue\", \"Education_Level\": \"Bachelor\", \"Temperature_C\": 19, \"Exam_Score\": 88},\n",
        "    {\"Student_ID\": 5, \"Favorite_Color\": \"Yellow\", \"Education_Level\": \"PhD\", \"Temperature_C\": 25, \"Exam_Score\": 95},\n",
        "]\n",
        "\n",
        "# Classification of each variable\n",
        "variable_types = {\n",
        "    \"Student_ID\": \"Nominal (identifier)\",\n",
        "    \"Favorite_Color\": \"Nominal\",\n",
        "    \"Education_Level\": \"Ordinal\",\n",
        "    \"Temperature_C\": \"Interval\",\n",
        "    \"Exam_Score\": \"Ratio\"\n",
        "}\n",
        "\n",
        "# Print dataset\n",
        "print(\"Dataset:\")\n",
        "for record in dataset:\n",
        "    print(record)\n",
        "\n",
        "print(\"\\nVariable Types:\")\n",
        "for var, vtype in variable_types.items():\n",
        "    print(f\"{var}: {vtype}\")\n"
      ],
      "metadata": {
        "colab": {
          "base_uri": "https://localhost:8080/"
        },
        "id": "vxxR6xzqwUnh",
        "outputId": "45e76be2-5d38-465f-e575-aa3569216ebb"
      },
      "execution_count": 13,
      "outputs": [
        {
          "output_type": "stream",
          "name": "stdout",
          "text": [
            "Dataset:\n",
            "{'Student_ID': 1, 'Favorite_Color': 'Blue', 'Education_Level': 'Bachelor', 'Temperature_C': 23, 'Exam_Score': 85}\n",
            "{'Student_ID': 2, 'Favorite_Color': 'Red', 'Education_Level': 'High School', 'Temperature_C': 18, 'Exam_Score': 78}\n",
            "{'Student_ID': 3, 'Favorite_Color': 'Green', 'Education_Level': 'Master', 'Temperature_C': 21, 'Exam_Score': 92}\n",
            "{'Student_ID': 4, 'Favorite_Color': 'Blue', 'Education_Level': 'Bachelor', 'Temperature_C': 19, 'Exam_Score': 88}\n",
            "{'Student_ID': 5, 'Favorite_Color': 'Yellow', 'Education_Level': 'PhD', 'Temperature_C': 25, 'Exam_Score': 95}\n",
            "\n",
            "Variable Types:\n",
            "Student_ID: Nominal (identifier)\n",
            "Favorite_Color: Nominal\n",
            "Education_Level: Ordinal\n",
            "Temperature_C: Interval\n",
            "Exam_Score: Ratio\n"
          ]
        }
      ]
    },
    {
      "cell_type": "markdown",
      "source": [
        "4)  Implement sampling techniques like random sampling and stratified sampling?\n",
        "\n",
        "Ans:-"
      ],
      "metadata": {
        "id": "LBMx9jkAwWAz"
      }
    },
    {
      "cell_type": "code",
      "source": [
        "import pandas as pd\n",
        "\n",
        "data = pd.DataFrame({\n",
        "    'Student_ID': range(1, 21),\n",
        "    'Gender': ['Male', 'Female'] * 10,\n",
        "    'Score': [88, 92, 95, 70, 85, 78, 90, 87, 93, 82, 75, 80, 89, 77, 85, 91, 84, 79, 88, 90]\n",
        "})\n"
      ],
      "metadata": {
        "id": "-2Jc21fzwgBh"
      },
      "execution_count": 14,
      "outputs": []
    },
    {
      "cell_type": "markdown",
      "source": [
        "1. Random Sampling\n",
        "Randomly select n samples from the dataset."
      ],
      "metadata": {
        "id": "KsfQigJYwpHW"
      }
    },
    {
      "cell_type": "code",
      "source": [
        "# Random sampling of 5 students\n",
        "random_sample = data.sample(n=5, random_state=1)\n",
        "print(\"Random Sample:\")\n",
        "print(random_sample)\n"
      ],
      "metadata": {
        "colab": {
          "base_uri": "https://localhost:8080/"
        },
        "id": "Yu-Mk5evwxzE",
        "outputId": "637742a9-2a40-4f6a-d1e6-8672926cf398"
      },
      "execution_count": 15,
      "outputs": [
        {
          "output_type": "stream",
          "name": "stdout",
          "text": [
            "Random Sample:\n",
            "    Student_ID  Gender  Score\n",
            "3            4  Female     70\n",
            "16          17    Male     84\n",
            "6            7    Male     90\n",
            "10          11    Male     75\n",
            "2            3    Male     95\n"
          ]
        }
      ]
    },
    {
      "cell_type": "markdown",
      "source": [
        "\n",
        "2. Stratified Sampling\n",
        "Sample from each stratum (group) proportionally or equally. Here, strata are based on 'Gender'."
      ],
      "metadata": {
        "id": "7OM2cq2Iwoei"
      }
    },
    {
      "cell_type": "code",
      "source": [
        "from sklearn.model_selection import train_test_split\n",
        "\n",
        "# Stratified sampling: split dataset so gender proportions are maintained\n",
        "train, stratified_sample = train_test_split(data, test_size=0.3, stratify=data['Gender'], random_state=1)\n",
        "\n",
        "print(\"\\nStratified Sample:\")\n",
        "print(stratified_sample)\n"
      ],
      "metadata": {
        "colab": {
          "base_uri": "https://localhost:8080/"
        },
        "id": "7Elr0dXdw7VM",
        "outputId": "e2e13c7b-25d0-4df8-ec8d-16509059bdc8"
      },
      "execution_count": 16,
      "outputs": [
        {
          "output_type": "stream",
          "name": "stdout",
          "text": [
            "\n",
            "Stratified Sample:\n",
            "    Student_ID  Gender  Score\n",
            "11          12  Female     80\n",
            "12          13    Male     89\n",
            "2            3    Male     95\n",
            "15          16  Female     91\n",
            "14          15    Male     85\n",
            "17          18  Female     79\n"
          ]
        }
      ]
    },
    {
      "cell_type": "markdown",
      "source": [
        "5) Write a Python function to calculate the range of a dataset?\n",
        "\n",
        "Ans:="
      ],
      "metadata": {
        "id": "QEKVKVHZw_Lw"
      }
    },
    {
      "cell_type": "code",
      "source": [
        "def calculate_range(data):\n",
        "    if not data:\n",
        "        return None  # Handle empty dataset\n",
        "    return max(data) - min(data)\n",
        "\n",
        "# Example usage\n",
        "dataset = [4, 7, 2, 9, 7, 5, 3]\n",
        "range_value = calculate_range(dataset)\n",
        "print(\"Range of the dataset:\", range_value)\n"
      ],
      "metadata": {
        "colab": {
          "base_uri": "https://localhost:8080/"
        },
        "id": "5Y9lqO7ZxKjs",
        "outputId": "bdf53371-815d-4f7f-b9ff-dff47c4ed0b7"
      },
      "execution_count": 17,
      "outputs": [
        {
          "output_type": "stream",
          "name": "stdout",
          "text": [
            "Range of the dataset: 7\n"
          ]
        }
      ]
    },
    {
      "cell_type": "markdown",
      "source": [
        "6)  Create a dataset and plot its histogram to visualize skewness?\n",
        "\n",
        "Ans:-"
      ],
      "metadata": {
        "id": "9VIoL3cZxMOq"
      }
    },
    {
      "cell_type": "code",
      "source": [
        "import numpy as np\n",
        "import matplotlib.pyplot as plt\n",
        "\n",
        "# Create a right-skewed dataset using exponential distribution\n",
        "data = np.random.exponential(scale=2, size=1000)\n",
        "\n",
        "# Plot histogram\n",
        "plt.hist(data, bins=30, color='lightblue', edgecolor='black')\n",
        "plt.title('Histogram Showing Right Skewness')\n",
        "plt.xlabel('Data Values')\n",
        "plt.ylabel('Frequency')\n",
        "plt.show()\n"
      ],
      "metadata": {
        "colab": {
          "base_uri": "https://localhost:8080/",
          "height": 472
        },
        "id": "4GqBim2UxbLf",
        "outputId": "398c6161-a77c-4dd4-d935-fb233e299754"
      },
      "execution_count": 18,
      "outputs": [
        {
          "output_type": "display_data",
          "data": {
            "text/plain": [
              "<Figure size 640x480 with 1 Axes>"
            ],
            "image/png": "[encoded data removed]"
          },
          "metadata": {}
        }
      ]
    },
    {
      "cell_type": "markdown",
      "source": [
        "7) Calculate skewness and kurtosis of a dataset using Python libraries?\n",
        "\n",
        "Ans:-"
      ],
      "metadata": {
        "id": "TwrQmJftxkIJ"
      }
    },
    {
      "cell_type": "code",
      "source": [
        "import numpy as np\n",
        "from scipy.stats import skew, kurtosis\n",
        "\n",
        "# Sample dataset\n",
        "data = np.array([4, 7, 2, 9, 7, 5, 3])\n",
        "\n",
        "# Calculate skewness\n",
        "skewness_value = skew(data)\n",
        "print(f\"Skewness: {skewness_value}\")\n",
        "\n",
        "# Calculate kurtosis\n",
        "kurtosis_value = kurtosis(data)  # By default, Fisher's definition (normal dist = 0)\n",
        "print(f\"Kurtosis: {kurtosis_value}\")\n"
      ],
      "metadata": {
        "colab": {
          "base_uri": "https://localhost:8080/"
        },
        "id": "0kLQGsp3xrEP",
        "outputId": "38ccc73d-cd37-40ed-89d1-20103ff57f37"
      },
      "execution_count": 19,
      "outputs": [
        {
          "output_type": "stream",
          "name": "stdout",
          "text": [
            "Skewness: 0.13582213298166582\n",
            "Kurtosis: -1.2302022026688426\n"
          ]
        }
      ]
    },
    {
      "cell_type": "markdown",
      "source": [
        "8) Generate a dataset and demonstrate positive and negative skewness?\n",
        "\n",
        "Ans:-"
      ],
      "metadata": {
        "id": "IibflYQjxuDO"
      }
    },
    {
      "cell_type": "code",
      "source": [
        "import numpy as np\n",
        "import matplotlib.pyplot as plt\n",
        "from scipy.stats import skew\n",
        "\n",
        "# Generate positively skewed data (right-skewed) using exponential distribution\n",
        "positive_skew_data = np.random.exponential(scale=2, size=1000)\n",
        "\n",
        "# Generate negatively skewed data (left-skewed) by negating exponential data\n",
        "negative_skew_data = -np.random.exponential(scale=2, size=1000)\n",
        "\n",
        "# Plot histograms side by side\n",
        "fig, axs = plt.subplots(1, 2, figsize=(12, 5))\n",
        "\n",
        "# Positive skew\n",
        "axs[0].hist(positive_skew_data, bins=30, color='skyblue', edgecolor='black')\n",
        "axs[0].set_title(f'Positive Skewness\\nSkewness: {skew(positive_skew_data):.2f}')\n",
        "axs[0].set_xlabel('Value')\n",
        "axs[0].set_ylabel('Frequency')\n",
        "\n",
        "# Negative skew\n",
        "axs[1].hist(negative_skew_data, bins=30, color='salmon', edgecolor='black')\n",
        "axs[1].set_title(f'Negative Skewness\\nSkewness: {skew(negative_skew_data):.2f}')\n",
        "axs[1].set_xlabel('Value')\n",
        "axs[1].set_ylabel('Frequency')\n",
        "\n",
        "plt.tight_layout()\n",
        "plt.show()\n",
        "\n"
      ],
      "metadata": {
        "colab": {
          "base_uri": "https://localhost:8080/",
          "height": 506
        },
        "id": "3Vb2InrRx2Or",
        "outputId": "68fe5c7c-994f-4ea7-e608-d226e6d4d2e4"
      },
      "execution_count": 21,
      "outputs": [
        {
          "output_type": "display_data",
          "data": {
            "text/plain": [
              "<Figure size 1200x500 with 2 Axes>"
            ],
            "image/png": "[encoded data removed]"
          },
          "metadata": {}
        }
      ]
    },
    {
      "cell_type": "markdown",
      "source": [
        "9) Write a Python script to calculate covariance between two datasets?\n",
        "\n",
        "Ans:-"
      ],
      "metadata": {
        "id": "HanILN3Gx_Eh"
      }
    },
    {
      "cell_type": "code",
      "source": [
        "import numpy as np\n",
        "\n",
        "# Sample datasets\n",
        "x = [2, 4, 6, 8, 10]\n",
        "y = [1, 3, 5, 7, 9]\n",
        "\n",
        "# Manual calculation of covariance\n",
        "def covariance(x, y):\n",
        "    n = len(x)\n",
        "    mean_x = sum(x) / n\n",
        "    mean_y = sum(y) / n\n",
        "    cov = sum((x[i] - mean_x) * (y[i] - mean_y) for i in range(n)) / n\n",
        "    return cov\n",
        "\n",
        "cov_manual = covariance(x, y)\n",
        "print(f\"Manual Covariance: {cov_manual}\")\n",
        "\n",
        "# Using NumPy\n",
        "cov_matrix = np.cov(x, y, bias=True)  # bias=True for population covariance (divide by n)\n",
        "cov_numpy = cov_matrix[0, 1]\n",
        "print(f\"NumPy Covariance: {cov_numpy}\")\n"
      ],
      "metadata": {
        "colab": {
          "base_uri": "https://localhost:8080/"
        },
        "id": "EzCXvfg9yK8-",
        "outputId": "df715e66-04a5-4abd-d696-13846e0191d7"
      },
      "execution_count": 22,
      "outputs": [
        {
          "output_type": "stream",
          "name": "stdout",
          "text": [
            "Manual Covariance: 8.0\n",
            "NumPy Covariance: 8.0\n"
          ]
        }
      ]
    },
    {
      "cell_type": "markdown",
      "source": [
        "10) Write a Python script to calculate the correlation coefficient between two datasets?\n",
        "\n",
        "Ans:-"
      ],
      "metadata": {
        "id": "LtWdFOSjyME1"
      }
    },
    {
      "cell_type": "code",
      "source": [
        "import numpy as np\n",
        "\n",
        "# Sample datasets\n",
        "x = [2, 4, 6, 8, 10]\n",
        "y = [1, 3, 5, 7, 9]\n",
        "\n",
        "# Manual calculation of Pearson correlation coefficient\n",
        "def pearson_correlation(x, y):\n",
        "    n = len(x)\n",
        "    mean_x = sum(x) / n\n",
        "    mean_y = sum(y) / n\n",
        "\n",
        "    numerator = sum((x[i] - mean_x) * (y[i] - mean_y) for i in range(n))\n",
        "    denominator_x = sum((x[i] - mean_x) ** 2 for i in range(n))\n",
        "    denominator_y = sum((y[i] - mean_y) ** 2 for i in range(n))\n",
        "\n",
        "    correlation = numerator / (denominator_x**0.5 * denominator_y**0.5)\n",
        "    return correlation\n",
        "\n",
        "corr_manual = pearson_correlation(x, y)\n",
        "print(f\"Manual Pearson correlation coefficient: {corr_manual}\")\n",
        "\n",
        "# Usi\n"
      ],
      "metadata": {
        "colab": {
          "base_uri": "https://localhost:8080/"
        },
        "id": "EXSIw4PLyWo_",
        "outputId": "4e6b5903-1a42-4971-901f-ed0d1dcc5f96"
      },
      "execution_count": 23,
      "outputs": [
        {
          "output_type": "stream",
          "name": "stdout",
          "text": [
            "Manual Pearson correlation coefficient: 0.9999999999999998\n"
          ]
        }
      ]
    },
    {
      "cell_type": "markdown",
      "source": [
        "11) Create a scatter plot to visualize the relationship between two variables?\n",
        "\n",
        "Ans:-"
      ],
      "metadata": {
        "id": "yHuGCkFKyX2R"
      }
    },
    {
      "cell_type": "code",
      "source": [
        "import matplotlib.pyplot as plt\n",
        "\n",
        "# Sample data\n",
        "x = [2, 4, 6, 8, 10]\n",
        "y = [1, 3, 5, 7, 9]\n",
        "\n",
        "# Create scatter plot\n",
        "plt.scatter(x, y, color='blue', marker='o')\n",
        "\n",
        "# Add titles and labels\n",
        "plt.title('Scatter Plot of X vs Y')\n",
        "plt.xlabel('X Values')\n",
        "plt.ylabel('Y Values')\n",
        "\n",
        "# Show plot\n",
        "plt.show()\n"
      ],
      "metadata": {
        "colab": {
          "base_uri": "https://localhost:8080/",
          "height": 472
        },
        "id": "Td6izCkhyiUj",
        "outputId": "77bc713c-1521-44ca-8b99-5a4be954a059"
      },
      "execution_count": 24,
      "outputs": [
        {
          "output_type": "display_data",
          "data": {
            "text/plain": [
              "<Figure size 640x480 with 1 Axes>"
            ],
            "image/png": "[encoded data removed]"
          },
          "metadata": {}
        }
      ]
    },
    {
      "cell_type": "markdown",
      "source": [
        "12)  Implement and compare simple random sampling and systematic sampling?\n",
        "\n",
        "Ans:- Sample Dataset\n"
      ],
      "metadata": {
        "id": "r-8KGpYWyki_"
      }
    },
    {
      "cell_type": "code",
      "source": [
        "data = list(range(1, 31))  # Dataset with numbers 1 to 30\n"
      ],
      "metadata": {
        "id": "8il-N25wywlm"
      },
      "execution_count": 25,
      "outputs": []
    },
    {
      "cell_type": "markdown",
      "source": [
        "\n",
        "Simple Random Sampling\n",
        "Randomly pick n samples from the dataset."
      ],
      "metadata": {
        "id": "Uo_9CSt5yy2h"
      }
    },
    {
      "cell_type": "code",
      "source": [
        "import random\n",
        "\n",
        "def simple_random_sampling(data, n):\n",
        "    return random.sample(data, n)\n"
      ],
      "metadata": {
        "id": "If5SrTsey3Kl"
      },
      "execution_count": 26,
      "outputs": []
    },
    {
      "cell_type": "markdown",
      "source": [
        "Systematic Sampling\n",
        "Pick every k-th item from the dataset"
      ],
      "metadata": {
        "id": "B0zeXJhQy5u-"
      }
    },
    {
      "cell_type": "code",
      "source": [
        "def systematic_sampling(data, n):\n",
        "    k = len(data) // n  # sampling interval\n",
        "    start = random.randint(0, k - 1)  # random start index within first interval\n",
        "    return [data[i] for i in range(start, len(data), k)]\n"
      ],
      "metadata": {
        "id": "l91NKyI3zBE4"
      },
      "execution_count": 27,
      "outputs": []
    },
    {
      "cell_type": "markdown",
      "source": [
        "Example Usage and Comparison"
      ],
      "metadata": {
        "id": "3ua8O0iUzCNK"
      }
    },
    {
      "cell_type": "code",
      "source": [
        "# Parameters\n",
        "sample_size = 5\n",
        "\n",
        "# Perform sampling\n",
        "random_sample = simple_random_sampling(data, sample_size)\n",
        "systematic_sample = systematic_sampling(data, sample_size)\n",
        "\n",
        "print(\"Original Data:\", data)\n",
        "print(\"Simple Random Sample:\", random_sample)\n",
        "print(\"Systematic Sample:\", systematic_sample)\n"
      ],
      "metadata": {
        "colab": {
          "base_uri": "https://localhost:8080/"
        },
        "id": "rKoR3xa5zFS8",
        "outputId": "75e1282f-ea69-4157-c224-67c4ae3aca6e"
      },
      "execution_count": 28,
      "outputs": [
        {
          "output_type": "stream",
          "name": "stdout",
          "text": [
            "Original Data: [1, 2, 3, 4, 5, 6, 7, 8, 9, 10, 11, 12, 13, 14, 15, 16, 17, 18, 19, 20, 21, 22, 23, 24, 25, 26, 27, 28, 29, 30]\n",
            "Simple Random Sample: [8, 19, 22, 18, 14]\n",
            "Systematic Sample: [4, 10, 16, 22, 28]\n"
          ]
        }
      ]
    },
    {
      "cell_type": "markdown",
      "source": [
        "13)Calculate the mean, median, and mode of grouped data?\n",
        "\n",
        "Ans:-"
      ],
      "metadata": {
        "id": "16JXpPvGzHr5"
      }
    },
    {
      "cell_type": "code",
      "source": [
        "# Grouped data: class intervals and their frequencies\n",
        "classes = [(10, 20), (20, 30), (30, 40), (40, 50), (50, 60)]\n",
        "frequencies = [5, 8, 12, 7, 3]\n",
        "\n",
        "# Calculate midpoints of each class\n",
        "midpoints = [(low + high) / 2 for low, high in classes]\n",
        "\n",
        "# Total number of observations\n",
        "N = sum(frequencies)\n",
        "\n",
        "# 1. Mean calculation\n",
        "mean = sum(f * x for f, x in zip(frequencies, midpoints)) / N\n",
        "\n",
        "# 2. Median calculation\n",
        "# Compute cumulative frequencies\n",
        "cum_freq = []\n",
        "total = 0\n",
        "for f in frequencies:\n",
        "    total += f\n",
        "    cum_freq.append(total)\n",
        "\n",
        "median_class_index = next(i for i, cf in enumerate(cum_freq) if cf >= N / 2)\n",
        "L = classes[median_class_index][0]           # Lower boundary of median class\n",
        "F = 0 if median_class_index == 0 else cum_freq[median_class_index - 1]  # Cum freq before median class\n",
        "f_m = frequencies[median_class_index]        # Frequency of median class\n",
        "h = classes[0][1] - classes[0][0]             # Class width (assumed equal)\n",
        "\n",
        "median = L + ((N / 2 - F) / f_m) * h\n",
        "\n",
        "# 3. Mode calculation\n",
        "modal_class_index = frequencies.index(max(frequencies))\n",
        "L_mode = classes[modal_class_index][0]       # Lower boundary of modal class\n",
        "f1 = frequencies[modal_class_index]\n",
        "f0 = frequencies[modal_class_index - 1] if modal_class_index > 0 else 0\n",
        "f2 = frequencies[modal_class_index + 1] if modal_class_index < len(frequencies) - 1 else 0\n",
        "\n",
        "mode = L_mode + ((f1 - f0) / (2 * f1 - f0 - f2)) * h\n",
        "\n",
        "# Output results\n",
        "print(f\"Mean: {mean:.2f}\")\n",
        "print(f\"Median: {median:.2f}\")\n",
        "print(f\"Mode: {mode:.2f}\")\n"
      ],
      "metadata": {
        "colab": {
          "base_uri": "https://localhost:8080/"
        },
        "id": "2di_Wp8ZzXxE",
        "outputId": "c83bce02-87e3-4472-c71c-dc387b480a2c"
      },
      "execution_count": 32,
      "outputs": [
        {
          "output_type": "stream",
          "name": "stdout",
          "text": [
            "Mean: 33.57\n",
            "Median: 33.75\n",
            "Mode: 34.44\n"
          ]
        }
      ]
    },
    {
      "cell_type": "markdown",
      "source": [
        "14) Simulate data using Python and calculate its central tendency and dispersion?\n",
        "\n",
        "Ans:-"
      ],
      "metadata": {
        "id": "8D2eVSqBzetR"
      }
    },
    {
      "cell_type": "code",
      "source": [
        "import numpy as np\n",
        "from scipy import stats\n",
        "\n",
        "# Simulate data: 1000 values from a normal distribution (mean=50, std=10)\n",
        "data = np.random.normal(loc=50, scale=10, size=1000)\n",
        "\n",
        "# Central Tendency\n",
        "mean = np.mean(data)\n",
        "median = np.median(data)\n",
        "mode = stats.mode(data, keepdims=True).mode[0]  # Mode calculation for continuous data\n",
        "\n",
        "# Dispersion\n",
        "variance = np.var(data)            # Population variance\n",
        "std_dev = np.std(data)             # Population standard deviation\n",
        "data_range = np.max(data) - np.min(data)\n",
        "\n",
        "# Print results\n",
        "print(f\"Mean: {mean:.2f}\")\n",
        "print(f\"Median: {median:.2f}\")\n",
        "print(f\"Mode: {mode:.2f}\")\n",
        "print(f\"Variance: {variance:.2f}\")\n",
        "print(f\"Standard Deviation: {std_dev:.2f}\")\n",
        "print(f\"Range: {data_range:.2f}\")\n"
      ],
      "metadata": {
        "colab": {
          "base_uri": "https://localhost:8080/"
        },
        "id": "P2Ei1rd_z25v",
        "outputId": "7c587d98-f961-4575-e165-26d98ea52fe1"
      },
      "execution_count": 33,
      "outputs": [
        {
          "output_type": "stream",
          "name": "stdout",
          "text": [
            "Mean: 49.82\n",
            "Median: 49.73\n",
            "Mode: 10.86\n",
            "Variance: 100.15\n",
            "Standard Deviation: 10.01\n",
            "Range: 70.94\n"
          ]
        }
      ]
    },
    {
      "cell_type": "markdown",
      "source": [
        "15) Use NumPy or pandas to summarize a dataset’s descriptive statistics?\n",
        "\n",
        "Ans:-"
      ],
      "metadata": {
        "id": "5TTNBNa2z4PU"
      }
    },
    {
      "cell_type": "code",
      "source": [
        "import numpy as np\n",
        "\n",
        "# Sample dataset\n",
        "data = np.random.normal(loc=50, scale=10, size=1000)\n",
        "\n",
        "# Descriptive statistics\n",
        "print(\"NumPy Descriptive Statistics:\")\n",
        "print(f\"Mean: {np.mean(data):.2f}\")\n",
        "print(f\"Median: {np.median(data):.2f}\")\n",
        "print(f\"Standard Deviation: {np.std(data):.2f}\")\n",
        "print(f\"Variance: {np.var(data):.2f}\")\n",
        "print(f\"Min: {np.min(data):.2f}\")\n",
        "print(f\"Max: {np.max(data):.2f}\")\n",
        "print(f\"25th percentile: {np.percentile(data, 25):.2f}\")\n",
        "print(f\"75th percentile: {np.percentile(data, 75):.2f}\")\n"
      ],
      "metadata": {
        "colab": {
          "base_uri": "https://localhost:8080/"
        },
        "id": "QnXbEcmM0CPk",
        "outputId": "dbf8f9ef-5b74-435b-f4a7-17df320024c4"
      },
      "execution_count": 34,
      "outputs": [
        {
          "output_type": "stream",
          "name": "stdout",
          "text": [
            "NumPy Descriptive Statistics:\n",
            "Mean: 49.98\n",
            "Median: 50.36\n",
            "Standard Deviation: 9.83\n",
            "Variance: 96.67\n",
            "Min: 18.76\n",
            "Max: 79.05\n",
            "25th percentile: 43.16\n",
            "75th percentile: 56.83\n"
          ]
        }
      ]
    },
    {
      "cell_type": "markdown",
      "source": [
        "16) Plot a boxplot to understand the spread and identify outliers?\n",
        "\n",
        "Ans:-"
      ],
      "metadata": {
        "id": "-qPT95Xz0GvV"
      }
    },
    {
      "cell_type": "code",
      "source": [
        "import matplotlib.pyplot as plt\n",
        "import numpy as np\n",
        "\n",
        "# Generate sample data\n",
        "data = np.random.normal(loc=50, scale=10, size=100)\n",
        "\n",
        "# Create boxplot\n",
        "plt.boxplot(data)\n",
        "\n",
        "# Add title and labels\n",
        "plt.title(\"Boxplot of Sample Data\")\n",
        "plt.ylabel(\"Values\")\n",
        "\n",
        "# Show plot\n",
        "plt.show()\n"
      ],
      "metadata": {
        "colab": {
          "base_uri": "https://localhost:8080/",
          "height": 452
        },
        "id": "qlH7pvIn0OWd",
        "outputId": "43d705d2-b24f-49d7-867d-a77a50f6ae17"
      },
      "execution_count": 35,
      "outputs": [
        {
          "output_type": "display_data",
          "data": {
            "text/plain": [
              "<Figure size 640x480 with 1 Axes>"
            ],
            "image/png": "[encoded data removed]"
          },
          "metadata": {}
        }
      ]
    },
    {
      "cell_type": "markdown",
      "source": [
        "Using Seaborn (more stylish):"
      ],
      "metadata": {
        "id": "gYsnmn5K0P1m"
      }
    },
    {
      "cell_type": "code",
      "source": [
        "import seaborn as sns\n",
        "import matplotlib.pyplot as plt\n",
        "import numpy as np\n",
        "\n",
        "# Generate sample data\n",
        "data = np.random.normal(loc=50, scale=10, size=100)\n",
        "\n",
        "# Create boxplot\n",
        "sns.boxplot(data=data)\n",
        "\n",
        "# Add title\n",
        "plt.title(\"Boxplot of Sample Data\")\n",
        "\n",
        "# Show plot\n",
        "plt.show()\n"
      ],
      "metadata": {
        "colab": {
          "base_uri": "https://localhost:8080/",
          "height": 433
        },
        "id": "a_d1FUFO0V9J",
        "outputId": "6be519c6-aa43-4a65-e6c8-d7e35152114e"
      },
      "execution_count": 36,
      "outputs": [
        {
          "output_type": "display_data",
          "data": {
            "text/plain": [
              "<Figure size 640x480 with 1 Axes>"
            ],
            "image/png": "[encoded data removed]"
          },
          "metadata": {}
        }
      ]
    },
    {
      "cell_type": "markdown",
      "source": [
        "17) Calculate the interquartile range (IQR) of a dataset?\n",
        "\n",
        "Ans:-"
      ],
      "metadata": {
        "id": "AHAMXv2w0Z5f"
      }
    },
    {
      "cell_type": "code",
      "source": [
        "import numpy as np\n",
        "\n",
        "# Sample dataset\n",
        "data = np.random.normal(loc=50, scale=10, size=100)\n",
        "\n",
        "# Calculate Q1 and Q3\n",
        "Q1 = np.percentile(data, 25)\n",
        "Q3 = np.percentile(data, 75)\n",
        "\n",
        "# Calculate IQR\n",
        "IQR = Q3 - Q1\n",
        "\n",
        "print(f\"Q1 (25th percentile): {Q1:.2f}\")\n",
        "print(f\"Q3 (75th percentile): {Q3:.2f}\")\n",
        "print(f\"Interquartile Range (IQR): {IQR:.2f}\")\n"
      ],
      "metadata": {
        "colab": {
          "base_uri": "https://localhost:8080/"
        },
        "id": "fX5M53nK0jon",
        "outputId": "27f839a7-b179-430e-bc66-756f7432ebdd"
      },
      "execution_count": 37,
      "outputs": [
        {
          "output_type": "stream",
          "name": "stdout",
          "text": [
            "Q1 (25th percentile): 42.68\n",
            "Q3 (75th percentile): 55.96\n",
            "Interquartile Range (IQR): 13.28\n"
          ]
        }
      ]
    },
    {
      "cell_type": "markdown",
      "source": [
        "18) Implement Z-score normalization and explain its significance?\n",
        "\n",
        "Ans:-"
      ],
      "metadata": {
        "id": "9XyHRml00ksy"
      }
    },
    {
      "cell_type": "code",
      "source": [
        "import numpy as np\n",
        "\n",
        "# Sample dataset\n",
        "data = np.array([12, 15, 20, 22, 18, 30, 25])\n",
        "\n",
        "# Calculate mean and standard deviation\n",
        "mean = np.mean(data)\n",
        "std_dev = np.std(data)\n",
        "\n",
        "# Apply Z-score normalization\n",
        "z_scores = (data - mean) / std_dev\n",
        "\n",
        "print(\"Original data:\", data)\n",
        "print(\"Mean:\", mean)\n",
        "print(\"Standard Deviation:\", std_dev)\n",
        "print(\"Z-score normalized data:\", z_scores)\n"
      ],
      "metadata": {
        "colab": {
          "base_uri": "https://localhost:8080/"
        },
        "id": "OkRPN_650vaX",
        "outputId": "2a28b53f-8ae1-476d-f15c-2dfb94c15685"
      },
      "execution_count": 38,
      "outputs": [
        {
          "output_type": "stream",
          "name": "stdout",
          "text": [
            "Original data: [12 15 20 22 18 30 25]\n",
            "Mean: 20.285714285714285\n",
            "Standard Deviation: 5.624291338579865\n",
            "Z-score normalized data: [-1.47320147 -0.93980094 -0.05080005  0.3048003  -0.40640041  1.72720173\n",
            "  0.83820084]\n"
          ]
        }
      ]
    },
    {
      "cell_type": "markdown",
      "source": [
        "19) Compare two datasets using their standard deviations?\n",
        "\n",
        "Ans:-"
      ],
      "metadata": {
        "id": "p2Q1152D027b"
      }
    },
    {
      "cell_type": "code",
      "source": [
        "import numpy as np\n",
        "\n",
        "# Define two datasets\n",
        "dataset1 = np.array([12, 15, 14, 10, 18, 20, 22])\n",
        "dataset2 = np.array([8, 9, 10, 11, 12, 10, 9])\n",
        "\n",
        "# Calculate standard deviations\n",
        "std_dev1 = np.std(dataset1)\n",
        "std_dev2 = np.std(dataset2)\n",
        "\n",
        "print(f\"Standard Deviation of Dataset 1: {std_dev1:.2f}\")\n",
        "print(f\"Standard Deviation of Dataset 2: {std_dev2:.2f}\")\n",
        "\n",
        "# Compare standard deviations\n",
        "if std_dev1 > std_dev2:\n",
        "    print(\"Dataset 1 has greater variability.\")\n",
        "elif std_dev1 < std_dev2:\n",
        "    print(\"Dataset 2 has greater variability.\")\n",
        "else:\n",
        "    print(\"Both datasets have equal variability.\")\n"
      ],
      "metadata": {
        "colab": {
          "base_uri": "https://localhost:8080/"
        },
        "id": "PPsU74HU1Cnn",
        "outputId": "a0c54cac-12fd-4cac-9bb5-1269cedff942"
      },
      "execution_count": 40,
      "outputs": [
        {
          "output_type": "stream",
          "name": "stdout",
          "text": [
            "Standard Deviation of Dataset 1: 4.02\n",
            "Standard Deviation of Dataset 2: 1.25\n",
            "Dataset 1 has greater variability.\n"
          ]
        }
      ]
    },
    {
      "cell_type": "markdown",
      "source": [
        "20) Write a Python program to visualize covariance using a heatmap?\n",
        "\n",
        "Ans:-"
      ],
      "metadata": {
        "id": "W0DvSYmZ1IIa"
      }
    },
    {
      "cell_type": "code",
      "source": [
        "import numpy as np\n",
        "import pandas as pd\n",
        "import seaborn as sns\n",
        "import matplotlib.pyplot as plt\n",
        "\n",
        "# Create sample data: 3 variables with 100 observations each\n",
        "np.random.seed(0)\n",
        "data = pd.DataFrame({\n",
        "    'X': np.random.normal(0, 1, 100),\n",
        "    'Y': np.random.normal(5, 2, 100),\n",
        "    'Z': np.random.normal(-3, 5, 100)\n",
        "})\n",
        "\n",
        "# Calculate covariance matrix\n",
        "cov_matrix = data.cov()\n",
        "\n",
        "# Plot heatmap of covariance matrix\n",
        "plt.figure(figsize=(6, 4))\n",
        "sns.heatmap(cov_matrix, annot=True, cmap='coolwarm', center=0)\n",
        "plt.title('Covariance Matrix Heatmap')\n",
        "plt.show()\n"
      ],
      "metadata": {
        "colab": {
          "base_uri": "https://localhost:8080/",
          "height": 391
        },
        "id": "lSsXQqMo1Rwv",
        "outputId": "10e3cfe0-52ce-468e-bf16-96a4e2fdb3d7"
      },
      "execution_count": 41,
      "outputs": [
        {
          "output_type": "display_data",
          "data": {
            "text/plain": [
              "<Figure size 600x400 with 2 Axes>"
            ],
            "image/png": "[encoded data removed]"
          },
          "metadata": {}
        }
      ]
    },
    {
      "cell_type": "markdown",
      "source": [
        "21) Use seaborn to create a correlation matrix for a dataset?\n",
        "\n",
        "Ans:-"
      ],
      "metadata": {
        "id": "h-LcuChi1TAZ"
      }
    },
    {
      "cell_type": "code",
      "source": [
        "import numpy as np\n",
        "import pandas as pd\n",
        "import seaborn as sns\n",
        "import matplotlib.pyplot as plt\n",
        "\n",
        "# Generate sample dataset with 4 variables and 100 samples\n",
        "np.random.seed(42)\n",
        "data = pd.DataFrame({\n",
        "    'A': np.random.normal(0, 1, 100),\n",
        "    'B': np.random.normal(5, 2, 100),\n",
        "    'C': np.random.normal(-2, 4, 100),\n",
        "    'D': np.random.normal(10, 3, 100)\n",
        "})\n",
        "\n",
        "# Calculate correlation matrix\n",
        "corr_matrix = data.corr()\n",
        "\n",
        "# Plot heatmap of correlation matrix\n",
        "plt.figure(figsize=(8, 6))\n",
        "sns.heatmap(corr_matrix, annot=True, cmap='coolwarm', center=0)\n",
        "plt.title('Correlation Matrix Heatmap')\n",
        "plt.show()\n"
      ],
      "metadata": {
        "colab": {
          "base_uri": "https://localhost:8080/",
          "height": 545
        },
        "id": "UtB8U7_-1d_U",
        "outputId": "83d08008-a607-4d65-8672-8e9184438eb7"
      },
      "execution_count": 42,
      "outputs": [
        {
          "output_type": "display_data",
          "data": {
            "text/plain": [
              "<Figure size 800x600 with 2 Axes>"
            ],
            "image/png": "[encoded data removed]"
          },
          "metadata": {}
        }
      ]
    },
    {
      "cell_type": "markdown",
      "source": [
        "22)  Generate a dataset and implement both variance and standard deviation computations?\n",
        "\n",
        "Ans:-"
      ],
      "metadata": {
        "id": "UdakLDGj1fKj"
      }
    },
    {
      "cell_type": "code",
      "source": [
        "import numpy as np\n",
        "\n",
        "# Generate a dataset of 50 random numbers from a normal distribution\n",
        "data = np.random.normal(loc=100, scale=15, size=50)\n",
        "\n",
        "# Calculate variance\n",
        "variance = np.var(data)  # Population variance by default\n",
        "\n",
        "# Calculate standard deviation\n",
        "std_dev = np.std(data)   # Population standard deviation by default\n",
        "\n",
        "print(f\"Generated dataset:\\n{data}\\n\")\n",
        "print(f\"Variance: {variance:.2f}\")\n",
        "print(f\"Standard Deviation: {std_dev:.2f}\")\n"
      ],
      "metadata": {
        "colab": {
          "base_uri": "https://localhost:8080/"
        },
        "id": "PgxX8xK21rAa",
        "outputId": "5de3d100-cea4-4e3d-c1e5-fca883ed254a"
      },
      "execution_count": 43,
      "outputs": [
        {
          "output_type": "stream",
          "name": "stdout",
          "text": [
            "Generated dataset:\n",
            "[ 76.08358512  91.00937466 100.0786555  100.70470891  93.24901793\n",
            " 109.34274899  83.98569356  97.86430772 101.80443448 107.71658251\n",
            " 110.67422317  83.13036862  76.98828744 119.16515233 104.98471018\n",
            "  88.77270195 123.26727963 101.73511951 117.68945776 101.01277722\n",
            " 130.91121887 126.33011264  96.26553777 114.57356426 109.68063924\n",
            " 120.52947336  85.52614809 110.2907719  115.8763673   73.6189077\n",
            "  82.25112231  69.41151733  95.95889748 110.76313384 122.53535578\n",
            " 101.11142171 124.42923318  79.29847813  74.44926341  99.16678452\n",
            " 105.76098173  99.50957878  68.9883685   98.66319941  80.43295749\n",
            " 110.04508823 105.49897369  85.90180321  92.29199624  84.11179717]\n",
            "\n",
            "Variance: 252.68\n",
            "Standard Deviation: 15.90\n"
          ]
        }
      ]
    },
    {
      "cell_type": "markdown",
      "source": [
        "23) Visualize skewness and kurtosis using Python libraries like matplotlib or seaborn?\n",
        "\n",
        "Ans:-"
      ],
      "metadata": {
        "id": "cohlvNbn1uL1"
      }
    },
    {
      "cell_type": "code",
      "source": [
        "import numpy as np\n",
        "import seaborn as sns\n",
        "import matplotlib.pyplot as plt\n",
        "from scipy.stats import skew, kurtosis\n",
        "\n",
        "# Generate data (you can try skewed or normal distributions)\n",
        "data = np.random.normal(loc=0, scale=1, size=1000)\n",
        "# For positive skew, try: data = np.random.chisquare(df=2, size=1000)\n",
        "# For negative skew, try: data = -np.random.chisquare(df=2, size=1000)\n",
        "\n",
        "# Calculate skewness and kurtosis\n",
        "data_skewness = skew(data)\n",
        "data_kurtosis = kurtosis(data)  # excess kurtosis (normal = 0)\n",
        "\n",
        "# Plot histogram and KDE\n",
        "plt.figure(figsize=(10, 6))\n",
        "sns.histplot(data, kde=True, bins=30, color='skyblue')\n",
        "\n",
        "# Add title and text\n",
        "plt.title('Histogram & KDE with Skewness and Kurtosis')\n",
        "plt.xlabel('Value')\n",
        "plt.ylabel('Frequency')\n",
        "plt.text(min(data), max(plt.ylim())*0.9, f'Skewness: {data_skewness:.2f}\\nKurtosis: {data_kurtosis:.2f}',\n",
        "         fontsize=12, bbox=dict(facecolor='white', alpha=0.5))\n",
        "\n",
        "plt.show()\n"
      ],
      "metadata": {
        "colab": {
          "base_uri": "https://localhost:8080/",
          "height": 564
        },
        "id": "98Bpllkv14xx",
        "outputId": "55052f5b-7161-4191-cac7-176b2aee669a"
      },
      "execution_count": 44,
      "outputs": [
        {
          "output_type": "display_data",
          "data": {
            "text/plain": [
              "<Figure size 1000x600 with 1 Axes>"
            ],
            "image/png": "[encoded data removed]"
          },
          "metadata": {}
        }
      ]
    },
    {
      "cell_type": "markdown",
      "source": [
        "24) Implement the Pearson and Spearman correlation coefficients for a dataset?\n",
        "\n",
        "Ans:-"
      ],
      "metadata": {
        "id": "OZnmycIa16Ns"
      }
    },
    {
      "cell_type": "code",
      "source": [
        "import numpy as np\n",
        "import pandas as pd\n",
        "from scipy.stats import pearsonr, spearmanr\n",
        "\n",
        "# Generate sample dataset\n",
        "np.random.seed(42)\n",
        "x = np.random.rand(50) * 100\n",
        "y = 0.5 * x + np.random.normal(0, 10, 50)  # y roughly linearly related to x with noise\n",
        "\n",
        "# Create a DataFrame (optional, for better visualization)\n",
        "data = pd.DataFrame({'X': x, 'Y': y})\n",
        "\n",
        "print(\"Sample Data:\")\n",
        "print(data.head())\n",
        "\n",
        "# Calculate Pearson correlation\n",
        "pearson_corr, pearson_p = pearsonr(data['X'], data['Y'])\n",
        "\n",
        "# Calculate Spearman correlation\n",
        "spearman_corr, spearman_p = spearmanr(data['X'], data['Y'])\n",
        "\n",
        "print(f\"\\nPearson correlation coefficient: {pearson_corr:.3f} (p-value: {pearson_p:.3f})\")\n",
        "print(f\"Spearman correlation coefficient: {spearman_corr:.3f} (p-value: {spearman_p:.3f})\")\n"
      ],
      "metadata": {
        "colab": {
          "base_uri": "https://localhost:8080/"
        },
        "id": "a9c7W3FJ2Js5",
        "outputId": "86b03d27-db45-4b35-fb10-3d3fb99ec685"
      },
      "execution_count": 45,
      "outputs": [
        {
          "output_type": "stream",
          "name": "stdout",
          "text": [
            "Sample Data:\n",
            "           X          Y\n",
            "0  37.454012  26.111672\n",
            "1  95.071431  49.249398\n",
            "2  73.199394  35.443214\n",
            "3  59.865848  26.921887\n",
            "4  15.601864  -6.984288\n",
            "\n",
            "Pearson correlation coefficient: 0.833 (p-value: 0.000)\n",
            "Spearman correlation coefficient: 0.833 (p-value: 0.000)\n"
          ]
        }
      ]
    }
  ]
}